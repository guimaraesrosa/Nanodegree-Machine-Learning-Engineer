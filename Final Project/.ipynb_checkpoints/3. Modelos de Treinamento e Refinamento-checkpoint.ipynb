{
 "cells": [
  {
   "cell_type": "code",
   "execution_count": 1,
   "metadata": {
    "collapsed": true
   },
   "outputs": [],
   "source": [
    "import pandas as pd\n",
    "import numpy as np\n",
    "import matplotlib.pyplot as plt\n",
    "import seaborn as sns\n",
    "\n",
    "%matplotlib inline"
   ]
  },
  {
   "cell_type": "code",
   "execution_count": 2,
   "metadata": {},
   "outputs": [
    {
     "data": {
      "text/html": [
       "<div>\n",
       "<style>\n",
       "    .dataframe thead tr:only-child th {\n",
       "        text-align: right;\n",
       "    }\n",
       "\n",
       "    .dataframe thead th {\n",
       "        text-align: left;\n",
       "    }\n",
       "\n",
       "    .dataframe tbody tr th {\n",
       "        vertical-align: top;\n",
       "    }\n",
       "</style>\n",
       "<table border=\"1\" class=\"dataframe\">\n",
       "  <thead>\n",
       "    <tr style=\"text-align: right;\">\n",
       "      <th></th>\n",
       "      <th>aCL IgG</th>\n",
       "      <th>aCL IgM</th>\n",
       "      <th>ANA</th>\n",
       "      <th>aCL IgA</th>\n",
       "      <th>KCT</th>\n",
       "      <th>RVVT</th>\n",
       "      <th>LAC</th>\n",
       "      <th>D_ANA Pattern</th>\n",
       "      <th>N_ANA Pattern</th>\n",
       "      <th>P_ANA Pattern</th>\n",
       "      <th>...</th>\n",
       "      <th>polyarthralgia_Diagnosis</th>\n",
       "      <th>preg_Diagnosis</th>\n",
       "      <th>protein loosing  _Diagnosis</th>\n",
       "      <th>pulmonary emboli_Diagnosis</th>\n",
       "      <th>thrombocytopenia_Diagnosis</th>\n",
       "      <th>uveitis_Diagnosis</th>\n",
       "      <th>varix_Diagnosis</th>\n",
       "      <th>vasculitis_Diagnosis</th>\n",
       "      <th>vertigo_Diagnosis</th>\n",
       "      <th>Thrombosis</th>\n",
       "    </tr>\n",
       "  </thead>\n",
       "  <tbody>\n",
       "    <tr>\n",
       "      <th>0</th>\n",
       "      <td>-0.14372</td>\n",
       "      <td>-0.04686</td>\n",
       "      <td>-0.22861</td>\n",
       "      <td>-0.04934</td>\n",
       "      <td>0.31858</td>\n",
       "      <td>0.35398</td>\n",
       "      <td>0.00000</td>\n",
       "      <td>0.00000</td>\n",
       "      <td>0.00000</td>\n",
       "      <td>1.00000</td>\n",
       "      <td>...</td>\n",
       "      <td>0</td>\n",
       "      <td>0</td>\n",
       "      <td>0</td>\n",
       "      <td>0</td>\n",
       "      <td>0</td>\n",
       "      <td>0</td>\n",
       "      <td>0</td>\n",
       "      <td>0</td>\n",
       "      <td>0</td>\n",
       "      <td>1</td>\n",
       "    </tr>\n",
       "    <tr>\n",
       "      <th>1</th>\n",
       "      <td>-0.12367</td>\n",
       "      <td>-0.04651</td>\n",
       "      <td>-0.22861</td>\n",
       "      <td>-0.04787</td>\n",
       "      <td>0.00000</td>\n",
       "      <td>0.00000</td>\n",
       "      <td>0.00000</td>\n",
       "      <td>0.00000</td>\n",
       "      <td>0.00000</td>\n",
       "      <td>1.00000</td>\n",
       "      <td>...</td>\n",
       "      <td>0</td>\n",
       "      <td>0</td>\n",
       "      <td>0</td>\n",
       "      <td>0</td>\n",
       "      <td>0</td>\n",
       "      <td>0</td>\n",
       "      <td>0</td>\n",
       "      <td>0</td>\n",
       "      <td>0</td>\n",
       "      <td>0</td>\n",
       "    </tr>\n",
       "    <tr>\n",
       "      <th>2</th>\n",
       "      <td>-0.13704</td>\n",
       "      <td>-0.04676</td>\n",
       "      <td>-0.46242</td>\n",
       "      <td>-0.04778</td>\n",
       "      <td>0.31858</td>\n",
       "      <td>0.35398</td>\n",
       "      <td>0.37931</td>\n",
       "      <td>0.01918</td>\n",
       "      <td>0.00548</td>\n",
       "      <td>0.51507</td>\n",
       "      <td>...</td>\n",
       "      <td>0</td>\n",
       "      <td>0</td>\n",
       "      <td>0</td>\n",
       "      <td>0</td>\n",
       "      <td>0</td>\n",
       "      <td>0</td>\n",
       "      <td>0</td>\n",
       "      <td>0</td>\n",
       "      <td>0</td>\n",
       "      <td>0</td>\n",
       "    </tr>\n",
       "    <tr>\n",
       "      <th>3</th>\n",
       "      <td>-0.15241</td>\n",
       "      <td>-0.04658</td>\n",
       "      <td>-0.45876</td>\n",
       "      <td>-0.04934</td>\n",
       "      <td>0.31858</td>\n",
       "      <td>0.35398</td>\n",
       "      <td>0.37931</td>\n",
       "      <td>0.00000</td>\n",
       "      <td>0.00000</td>\n",
       "      <td>1.00000</td>\n",
       "      <td>...</td>\n",
       "      <td>0</td>\n",
       "      <td>0</td>\n",
       "      <td>0</td>\n",
       "      <td>0</td>\n",
       "      <td>0</td>\n",
       "      <td>0</td>\n",
       "      <td>0</td>\n",
       "      <td>0</td>\n",
       "      <td>1</td>\n",
       "      <td>0</td>\n",
       "    </tr>\n",
       "    <tr>\n",
       "      <th>4</th>\n",
       "      <td>-0.14573</td>\n",
       "      <td>-0.04677</td>\n",
       "      <td>0.47282</td>\n",
       "      <td>-0.04934</td>\n",
       "      <td>0.00000</td>\n",
       "      <td>0.00000</td>\n",
       "      <td>0.00000</td>\n",
       "      <td>0.00000</td>\n",
       "      <td>0.00000</td>\n",
       "      <td>0.00000</td>\n",
       "      <td>...</td>\n",
       "      <td>0</td>\n",
       "      <td>0</td>\n",
       "      <td>0</td>\n",
       "      <td>0</td>\n",
       "      <td>0</td>\n",
       "      <td>0</td>\n",
       "      <td>0</td>\n",
       "      <td>0</td>\n",
       "      <td>0</td>\n",
       "      <td>0</td>\n",
       "    </tr>\n",
       "  </tbody>\n",
       "</table>\n",
       "<p>5 rows × 108 columns</p>\n",
       "</div>"
      ],
      "text/plain": [
       "   aCL IgG  aCL IgM      ANA  aCL IgA      KCT     RVVT      LAC  \\\n",
       "0 -0.14372 -0.04686 -0.22861 -0.04934  0.31858  0.35398  0.00000   \n",
       "1 -0.12367 -0.04651 -0.22861 -0.04787  0.00000  0.00000  0.00000   \n",
       "2 -0.13704 -0.04676 -0.46242 -0.04778  0.31858  0.35398  0.37931   \n",
       "3 -0.15241 -0.04658 -0.45876 -0.04934  0.31858  0.35398  0.37931   \n",
       "4 -0.14573 -0.04677  0.47282 -0.04934  0.00000  0.00000  0.00000   \n",
       "\n",
       "   D_ANA Pattern  N_ANA Pattern  P_ANA Pattern     ...      \\\n",
       "0        0.00000        0.00000        1.00000     ...       \n",
       "1        0.00000        0.00000        1.00000     ...       \n",
       "2        0.01918        0.00548        0.51507     ...       \n",
       "3        0.00000        0.00000        1.00000     ...       \n",
       "4        0.00000        0.00000        0.00000     ...       \n",
       "\n",
       "   polyarthralgia_Diagnosis  preg_Diagnosis  protein loosing  _Diagnosis  \\\n",
       "0                         0               0                            0   \n",
       "1                         0               0                            0   \n",
       "2                         0               0                            0   \n",
       "3                         0               0                            0   \n",
       "4                         0               0                            0   \n",
       "\n",
       "   pulmonary emboli_Diagnosis  thrombocytopenia_Diagnosis  uveitis_Diagnosis  \\\n",
       "0                           0                           0                  0   \n",
       "1                           0                           0                  0   \n",
       "2                           0                           0                  0   \n",
       "3                           0                           0                  0   \n",
       "4                           0                           0                  0   \n",
       "\n",
       "   varix_Diagnosis  vasculitis_Diagnosis  vertigo_Diagnosis  Thrombosis  \n",
       "0                0                     0                  0           1  \n",
       "1                0                     0                  0           0  \n",
       "2                0                     0                  0           0  \n",
       "3                0                     0                  1           0  \n",
       "4                0                     0                  0           0  \n",
       "\n",
       "[5 rows x 108 columns]"
      ]
     },
     "execution_count": 2,
     "metadata": {},
     "output_type": "execute_result"
    }
   ],
   "source": [
    "df_trombose=pd.read_csv(\"pre_processing_trombose.csv\")\n",
    "df_trombose.head()"
   ]
  },
  {
   "cell_type": "code",
   "execution_count": 3,
   "metadata": {
    "collapsed": true
   },
   "outputs": [],
   "source": [
    "from sklearn.model_selection import train_test_split\n",
    "from sklearn.metrics import confusion_matrix,precision_recall_curve,auc,roc_auc_score,roc_curve,recall_score,classification_report\n",
    "from sklearn.metrics import accuracy_score, precision_score, f1_score\n",
    "\n",
    "\n",
    "import itertools\n",
    "\n",
    "#AdaBoost\n",
    "from sklearn.tree import DecisionTreeClassifier\n",
    "from sklearn.ensemble import AdaBoostClassifier\n",
    "\n",
    "from collections import Counter\n",
    "from imblearn.datasets import fetch_datasets\n",
    "from sklearn.pipeline import make_pipeline\n",
    "from imblearn.pipeline import make_pipeline as make_pipeline_imb\n",
    "from imblearn.over_sampling import SMOTE, ADASYN\n",
    "from imblearn.under_sampling import NearMiss\n",
    "from imblearn.metrics import classification_report_imbalanced\n",
    "from sklearn.ensemble import RandomForestClassifier\n",
    "from sklearn.svm import LinearSVC\n"
   ]
  },
  {
   "cell_type": "markdown",
   "metadata": {},
   "source": [
    "## Identificando atributos e variáveis-alvo"
   ]
  },
  {
   "cell_type": "code",
   "execution_count": 4,
   "metadata": {},
   "outputs": [
    {
     "name": "stdout",
     "output_type": "stream",
     "text": [
      "Colunas de atributo:\n",
      "['aCL IgG', 'aCL IgM', 'ANA', 'aCL IgA', 'KCT', 'RVVT', 'LAC', 'D_ANA Pattern', 'N_ANA Pattern', 'P_ANA Pattern', 'S_ANA Pattern', 'ABN_Diagnosis', 'AGA_Diagnosis', 'AIHA_Diagnosis', 'AMI_Diagnosis', 'AP_Diagnosis', 'APS_Diagnosis', 'APTT Elongation_Diagnosis', 'ARF_Diagnosis', 'Adult Still_Diagnosis', 'Amyopathic_Diagnosis', 'Aortitis_Diagnosis', 'BFP_Diagnosis', 'BOOP_Diagnosis', 'Basedow_Diagnosis', 'Behcet_Diagnosis', 'Bleeding Colitis_Diagnosis', 'Budd-Chiari_Diagnosis', 'CNS_Diagnosis', 'Cervical Lymphotidis_Diagnosis', 'Chorea_Diagnosis', 'Cliogloblin_Diagnosis', 'Crohn_Diagnosis', 'Cryoglobulin_Diagnosis', 'DLE_Diagnosis', 'DM_Diagnosis', 'DVT_Diagnosis', 'EB_Diagnosis', 'EN_Diagnosis', 'FLD_Diagnosis', 'FUO_Diagnosis', 'HLP_Diagnosis', 'HT_Diagnosis', 'Hashimoto_Diagnosis', 'IP_Diagnosis', 'IPH_Diagnosis', 'ITP_Diagnosis', 'JRA_Diagnosis', 'LA_Diagnosis', 'LAC_Diagnosis', 'LIVER D_Diagnosis', 'Livedo_Diagnosis', 'MCTD_Diagnosis', 'MRA_Diagnosis', 'NS_Diagnosis', 'Normal_Diagnosis', 'OMI_Diagnosis', 'PH_Diagnosis', 'PM_Diagnosis', 'PM0_Diagnosis', 'PMR_Diagnosis', 'PN_Diagnosis', 'PSS_Diagnosis', 'Paniculitis_Diagnosis', 'Photosensitivities_Diagnosis', 'Pleuritis_Diagnosis', 'Psy_Diagnosis', 'RA_Diagnosis', 'RNP_Diagnosis', 'RPC_Diagnosis', 'Raynaud_Diagnosis', 'SLE_Diagnosis', 'Sarcoidosis_Diagnosis', 'Sgt_Diagnosis', 'Sgt4_Diagnosis', 'SgtIII_Diagnosis', 'SjS_Diagnosis', 'Spleen infarction_Diagnosis', 'TTP_Diagnosis', 'UC_Diagnosis', 'UCTD_Diagnosis', 'Vasculitis  _Diagnosis', 'WG_Diagnosis', 'WHO2_Diagnosis', 'WHOIV_Diagnosis', 'abortion_Diagnosis', 'anemia_Diagnosis', 'arthralgia_Diagnosis', 'autoimmune hepatitis_Diagnosis', 'autoimmune leukopenia_Diagnosis', 'brain infarction_Diagnosis', 'collagen_Diagnosis', 'depression_Diagnosis', 'endocarditis_Diagnosis', 'eosinophilia_Diagnosis', 'meningitis_Diagnosis', 'myelopathy_Diagnosis', 'paniculitis_Diagnosis', 'polyarthralgia_Diagnosis', 'preg_Diagnosis', 'protein loosing  _Diagnosis', 'pulmonary emboli_Diagnosis', 'thrombocytopenia_Diagnosis', 'uveitis_Diagnosis', 'varix_Diagnosis', 'vasculitis_Diagnosis', 'vertigo_Diagnosis']\n",
      "\n",
      " Variável-alvo: Thrombosis\n"
     ]
    }
   ],
   "source": [
    "#Extrair colunas dos atributos\n",
    "feature_cols = list(df_trombose.columns[:-1])\n",
    "\n",
    "#Extrair as variáveis-alvo\n",
    "target_col = df_trombose.columns[-1]\n",
    "\n",
    "#Mostrar a lista de colunas\n",
    "print \"Colunas de atributo:\\n{}\".format(feature_cols)\n",
    "print \"\\n Variável-alvo: {}\".format(target_col)\n",
    "\n",
    "#Separar os dados entre atributos e target\n",
    "X_all = df_trombose[feature_cols]\n",
    "y_all = df_trombose[target_col]\n"
   ]
  },
  {
   "cell_type": "code",
   "execution_count": 5,
   "metadata": {
    "collapsed": true
   },
   "outputs": [],
   "source": [
    "#Função criada por https://www.kaggle.com/joparga3\n",
    "def plot_confusion_matrix(cm, classes,\n",
    "                          normalize=False,\n",
    "                          title='Confusion matrix',\n",
    "                          cmap=plt.cm.Blues):\n",
    "    \"\"\"\n",
    "    This function prints and plots the confusion matrix.\n",
    "    Normalization can be applied by setting `normalize=True`.\n",
    "    \"\"\"\n",
    "    plt.imshow(cm, interpolation='nearest', cmap=cmap)\n",
    "    plt.title(title)\n",
    "    plt.colorbar()\n",
    "    tick_marks = np.arange(len(classes))\n",
    "    plt.xticks(tick_marks, classes, rotation=0)\n",
    "    plt.yticks(tick_marks, classes)\n",
    "\n",
    "    if normalize:\n",
    "        cm = cm.astype('float') / cm.sum(axis=1)[:, np.newaxis]\n",
    "        print(\"Normalized confusion matrix\")\n",
    "    else:\n",
    "        1\n",
    "    thresh = cm.max() / 2.\n",
    "    for i, j in itertools.product(range(cm.shape[0]), range(cm.shape[1])):\n",
    "        plt.text(j, i, cm[i, j],\n",
    "                 horizontalalignment=\"center\",\n",
    "                 color=\"white\" if cm[i, j] > thresh else \"black\")\n",
    "\n",
    "    plt.tight_layout()\n",
    "    plt.ylabel('True label')\n",
    "    plt.xlabel('Predicted label')"
   ]
  },
  {
   "cell_type": "code",
   "execution_count": 6,
   "metadata": {
    "collapsed": true
   },
   "outputs": [],
   "source": [
    "def print_results(headline, true_value, pred):\n",
    "    print(headline)\n",
    "    print(\"accuracy: {}\".format(accuracy_score(true_value, pred)))\n",
    "    print(\"precision: {}\".format(precision_score(true_value, pred, average=None)))\n",
    "    print(\"recall: {}\".format(recall_score(true_value, pred, average=None)))\n",
    "    print(\"f1: {}\".format(f1_score(true_value, pred, average=None)))"
   ]
  },
  {
   "cell_type": "markdown",
   "metadata": {
    "collapsed": true
   },
   "source": [
    "### Separando pontos de Treinamento e Teste"
   ]
  },
  {
   "cell_type": "code",
   "execution_count": 7,
   "metadata": {},
   "outputs": [
    {
     "name": "stdout",
     "output_type": "stream",
     "text": [
      "O conjunto de treinamento tem 332 amostras\n",
      "O conjunto de teste tem 143 amostras\n"
     ]
    }
   ],
   "source": [
    "#Número de pontos de treinamento 70% Treinamento, 30% Teste\n",
    "#329 treinamento, 141 teste  \n",
    "\n",
    "#Embaralhar e distribuir o conjunto de dados\n",
    "X_train, X_test, y_train, y_test = train_test_split(X_all, y_all, stratify=y_all, test_size=0.3, random_state=2)\n",
    "\n",
    "#Mostrar resultado da distribuição\n",
    "print \"O conjunto de treinamento tem {} amostras\".format(X_train.shape[0])\n",
    "print \"O conjunto de teste tem {} amostras\".format(X_test.shape[0])"
   ]
  },
  {
   "cell_type": "markdown",
   "metadata": {},
   "source": [
    "## Treinamento utilizando Classificação AdaBoost"
   ]
  },
  {
   "cell_type": "code",
   "execution_count": 8,
   "metadata": {
    "collapsed": true
   },
   "outputs": [],
   "source": [
    "#Aplicando AdaBoost\n",
    "dt = DecisionTreeClassifier()\n",
    "clf = AdaBoostClassifier(n_estimators=150, base_estimator=dt, learning_rate=1)\n",
    "\n",
    "clf.fit(X_train, y_train)\n",
    "prediction = clf.predict(X_test)"
   ]
  },
  {
   "cell_type": "code",
   "execution_count": 9,
   "metadata": {},
   "outputs": [
    {
     "data": {
      "image/png": "[encoded data removed]",
      "text/plain": [
       "<matplotlib.figure.Figure at 0x7fa0d0761150>"
      ]
     },
     "metadata": {},
     "output_type": "display_data"
    },
    {
     "name": "stdout",
     "output_type": "stream",
     "text": [
      "AdaBoost\n",
      "accuracy: 0.825174825175\n",
      "precision: [ 0.89  0.5   0.25  0.6 ]\n",
      "recall: [ 0.91  0.38  0.2   1.  ]\n",
      "f1: [ 0.9   0.43  0.22  0.75]\n"
     ]
    }
   ],
   "source": [
    "#Computar matriz de confusão\n",
    "cnf_matrix = confusion_matrix(y_test, prediction)\n",
    "np.set_printoptions(precision=2)\n",
    "\n",
    "\n",
    "#Plot matriz de confusão\n",
    "class_names = [0,1,2,3]\n",
    "plt.figure()\n",
    "plot_confusion_matrix(cnf_matrix,\n",
    "                     classes = class_names,\n",
    "                     title='Matriz de Confusao')\n",
    "\n",
    "plt.show()\n",
    "\n",
    "print_results(\"AdaBoost\", y_test,prediction)"
   ]
  },
  {
   "cell_type": "code",
   "execution_count": null,
   "metadata": {
    "collapsed": true
   },
   "outputs": [],
   "source": []
  },
  {
   "cell_type": "markdown",
   "metadata": {
    "collapsed": true
   },
   "source": [
    "# Resampling "
   ]
  },
  {
   "cell_type": "code",
   "execution_count": 10,
   "metadata": {},
   "outputs": [
    {
     "name": "stdout",
     "output_type": "stream",
     "text": [
      "('Porcentagem da classe 0: ', 0.25)\n",
      "('Porcentagem da classe 1: ', 0.25)\n",
      "('Porcentagem da classe 2: ', 0.25)\n",
      "('Porcentagem da classe minoritaria 3: ', 0.25)\n",
      "('Total de numero para dados em resampled: ', 40)\n"
     ]
    }
   ],
   "source": [
    "#Numero de dados na classe minoritária\n",
    "number_trombose = len(df_trombose[df_trombose['Thrombosis']==3])\n",
    "trombose_indices = np.array(df_trombose[df_trombose['Thrombosis']==3].index)\n",
    "\n",
    "#Array com 5 dados aleatórios da classe 0\n",
    "normal_indices = df_trombose[df_trombose['Thrombosis']==0].index\n",
    "random_normal_indices = np.random.choice(normal_indices, number_trombose, replace=False)\n",
    "random_normal_indices = np.array(random_normal_indices)\n",
    "\n",
    "#Array com 5 dados aleatórios da classe 1\n",
    "normal_indices = df_trombose[df_trombose['Thrombosis']==1].index\n",
    "random_normal_indices1 = np.random.choice(normal_indices, number_trombose, replace=False)\n",
    "random_normal_indices1 = np.array(random_normal_indices1)\n",
    "\n",
    "#Array com 5 dados aleatórios da classe 2\n",
    "normal_indices = df_trombose[df_trombose['Thrombosis']==2].index\n",
    "random_normal_indices2 = np.random.choice(normal_indices, number_trombose, replace=False)\n",
    "random_normal_indices2 = np.array(random_normal_indices2)\n",
    "\n",
    "#concatena o conjunto de indices selecionados das 4 classes\n",
    "under_sample_indices = np.concatenate([trombose_indices,random_normal_indices,random_normal_indices1,random_normal_indices2])\n",
    "\n",
    "#Cria dataframe com dados correspondente aos índices\n",
    "under_sample_data = df_trombose.iloc[under_sample_indices,:]\n",
    "\n",
    "#Cria undersample com todos os atributos\n",
    "X_undersample = under_sample_data.iloc[:,under_sample_data.columns != 'Thrombosis']\n",
    "\n",
    "#Cria undersample com target\n",
    "y_undersample = under_sample_data.iloc[:,under_sample_data.columns == 'Thrombosis']\n",
    "\n",
    "print(\"Porcentagem da classe 0: \", float(len(under_sample_data[under_sample_data['Thrombosis'] == 0]))/float(len(under_sample_data)))\n",
    "print(\"Porcentagem da classe 1: \", float(len(under_sample_data[under_sample_data['Thrombosis'] == 1]))/float(len(under_sample_data)))\n",
    "print(\"Porcentagem da classe 2: \", float(len(under_sample_data[under_sample_data['Thrombosis'] == 2]))/float(len(under_sample_data)))\n",
    "print(\"Porcentagem da classe minoritaria 3: \", float(len(under_sample_data[under_sample_data['Thrombosis'] == 3]))/float(len(under_sample_data)))\n",
    "print(\"Total de numero para dados em resampled: \", len(under_sample_data))"
   ]
  },
  {
   "cell_type": "markdown",
   "metadata": {},
   "source": [
    "## Treinamento dos dados"
   ]
  },
  {
   "cell_type": "code",
   "execution_count": 11,
   "metadata": {},
   "outputs": [
    {
     "name": "stdout",
     "output_type": "stream",
     "text": [
      "('O conjunto de treinamento: ', 28)\n",
      "('O conjunto de teste: ', 12)\n",
      "('Numero total: ', 40)\n"
     ]
    }
   ],
   "source": [
    "# Conjunto de dados Undersampled\n",
    "X_train_undersample,X_test_undersample,y_train_undersample,y_test_undersample = train_test_split(X_undersample,\n",
    "                                                                                                 y_undersample,\n",
    "                                                                                                 test_size = 0.3,\n",
    "                                                                                                 random_state = 42)\n",
    "\n",
    "print(\"O conjunto de treinamento: \", len(X_train_undersample))\n",
    "print(\"O conjunto de teste: \", len(X_test_undersample))\n",
    "print(\"Numero total: \", len(X_train_undersample)+len(X_test_undersample))"
   ]
  },
  {
   "cell_type": "code",
   "execution_count": 12,
   "metadata": {},
   "outputs": [
    {
     "data": {
      "image/png": "[encoded data removed]",
      "text/plain": [
       "<matplotlib.figure.Figure at 0x7fa0d058f810>"
      ]
     },
     "metadata": {},
     "output_type": "display_data"
    },
    {
     "name": "stdout",
     "output_type": "stream",
     "text": [
      "Resampling\n",
      "accuracy: 0.41958041958\n",
      "precision: [ 1.    0.36  0.09  0.06]\n",
      "recall: [ 0.38  0.62  0.6   0.67]\n",
      "f1: [ 0.55  0.45  0.15  0.11]\n"
     ]
    }
   ],
   "source": [
    "# Aplicar classificador Logistic Regression\n",
    "#clf = LogisticRegression(C = 0.01, penalty = 'l1')\n",
    "#clf.fit(X_train_undersample,y_train_undersample.values.ravel())\n",
    "dt = DecisionTreeClassifier()\n",
    "clf = AdaBoostClassifier(n_estimators=100, base_estimator=dt, learning_rate=1)\n",
    "clf.fit(X_train_undersample,y_train_undersample.values.ravel())\n",
    "#prediction = clf.predict(X_test)\n",
    "\n",
    "#pred_undersample = clf.predict(X_test_undersample.values)\n",
    "pred_undersample = clf.predict(X_test.values)\n",
    "\n",
    "# Computar matriz de confusão\n",
    "#cnf_matrix = confusion_matrix(y_test_undersample,pred_undersample)\n",
    "cnf_matrix = confusion_matrix(y_test,pred_undersample)\n",
    "np.set_printoptions(precision=2)\n",
    "\n",
    "#print(\"Recall: \", recall_score(y_test,prediction, average=None))\n",
    "\n",
    "# Plotar Matriz de confusão\n",
    "class_names = [0,1,2,3]\n",
    "plt.figure()\n",
    "plot_confusion_matrix(cnf_matrix, classes=class_names, title='Matriz de Confusao')\n",
    "\n",
    "plt.show()\n",
    "\n",
    "#print_results(\"Resampling\", y_test_undersample,pred_undersample)\n",
    "print_results(\"Resampling\", y_test,pred_undersample)"
   ]
  },
  {
   "cell_type": "code",
   "execution_count": null,
   "metadata": {
    "collapsed": true
   },
   "outputs": [],
   "source": []
  },
  {
   "cell_type": "markdown",
   "metadata": {},
   "source": [
    "# Undersampling"
   ]
  },
  {
   "cell_type": "code",
   "execution_count": 13,
   "metadata": {},
   "outputs": [
    {
     "data": {
      "image/png": "[encoded data removed]",
      "text/plain": [
       "<matplotlib.figure.Figure at 0x7fa0ccd5e150>"
      ]
     },
     "metadata": {},
     "output_type": "display_data"
    },
    {
     "name": "stdout",
     "output_type": "stream",
     "text": [
      "NearMiss\n",
      "accuracy: 0.251748251748\n",
      "precision: [ 0.89  0.15  0.05  0.11]\n",
      "recall: [ 0.21  0.38  0.6   0.67]\n",
      "f1: [ 0.34  0.21  0.1   0.19]\n"
     ]
    }
   ],
   "source": [
    "clf = RandomForestClassifier(random_state=42)\n",
    "nearmiss_pipeline = make_pipeline_imb(NearMiss(random_state=42), clf)\n",
    "nearmiss_model = nearmiss_pipeline.fit(X_train, y_train)\n",
    "nearmiss_prediction = nearmiss_model.predict(X_test)\n",
    "\n",
    "# Computar matriz de confusão\n",
    "cnf_matrix = confusion_matrix(y_test,nearmiss_prediction)\n",
    "np.set_printoptions(precision=2)\n",
    "\n",
    "# Plotar Matriz de confusão\n",
    "class_names = [0,1,2,3]\n",
    "plt.figure()\n",
    "plot_confusion_matrix(cnf_matrix, classes=class_names, title='Matriz de Confusao')\n",
    "\n",
    "plt.show()\n",
    "\n",
    "#Recall, precision, F1, accuracy\n",
    "print_results(\"NearMiss\", y_test,nearmiss_prediction)"
   ]
  },
  {
   "cell_type": "code",
   "execution_count": null,
   "metadata": {
    "collapsed": true
   },
   "outputs": [],
   "source": []
  },
  {
   "cell_type": "code",
   "execution_count": 14,
   "metadata": {},
   "outputs": [
    {
     "name": "stdout",
     "output_type": "stream",
     "text": [
      "NearMiss data distribution: Counter({0: 10, 1: 10, 2: 10, 3: 10})\n"
     ]
    }
   ],
   "source": [
    "#Informação sobre o modelo\n",
    "X_nearmiss, y_nearmiss = NearMiss().fit_sample(X_all, y_all)\n",
    "print(\"NearMiss data distribution: {}\".format(Counter(y_nearmiss)))"
   ]
  },
  {
   "cell_type": "code",
   "execution_count": 15,
   "metadata": {},
   "outputs": [
    {
     "name": "stdout",
     "output_type": "stream",
     "text": [
      "NearMiss Pipeline Score 0.251748251748\n"
     ]
    }
   ],
   "source": [
    "#Pipeline Score\n",
    "print('NearMiss Pipeline Score {}'.format(nearmiss_pipeline.score(X_test, y_test)))"
   ]
  },
  {
   "cell_type": "markdown",
   "metadata": {},
   "source": [
    "# SMOTE imblearn"
   ]
  },
  {
   "cell_type": "code",
   "execution_count": 16,
   "metadata": {},
   "outputs": [
    {
     "data": {
      "image/png": "[encoded data removed]",
      "text/plain": [
       "<matplotlib.figure.Figure at 0x7fa0ccc96110>"
      ]
     },
     "metadata": {},
     "output_type": "display_data"
    },
    {
     "name": "stdout",
     "output_type": "stream",
     "text": [
      "SMOTE\n",
      "accuracy: 0.804195804196\n",
      "precision: [ 0.87  0.4   0.    0.5 ]\n",
      "recall: [ 0.91  0.25  0.    1.  ]\n",
      "f1: [ 0.89  0.31  0.    0.67]\n"
     ]
    }
   ],
   "source": [
    "clf = RandomForestClassifier(random_state=42)\n",
    "\n",
    "smote_pipeline = make_pipeline_imb(SMOTE(random_state=2), clf)\n",
    "smote_model = smote_pipeline.fit(X_train, y_train)\n",
    "smote_prediction = smote_model.predict(X_test)\n",
    "\n",
    "# Computar matriz de confusão\n",
    "cnf_matrix = confusion_matrix(y_test,smote_prediction)\n",
    "np.set_printoptions(precision=2)\n",
    "\n",
    "# Plotar Matriz de confusão\n",
    "class_names = [0,1,2,3]\n",
    "plt.figure()\n",
    "plot_confusion_matrix(cnf_matrix, classes=class_names, title='Matriz de Confusao')\n",
    "\n",
    "plt.show()\n",
    "\n",
    "#Recall, precision, F1, accuracy\n",
    "print_results(\"SMOTE\", y_test,smote_prediction)"
   ]
  },
  {
   "cell_type": "code",
   "execution_count": null,
   "metadata": {
    "collapsed": true
   },
   "outputs": [],
   "source": []
  },
  {
   "cell_type": "code",
   "execution_count": 17,
   "metadata": {},
   "outputs": [
    {
     "name": "stdout",
     "output_type": "stream",
     "text": [
      "SMOTE data distribution: Counter({0: 394, 1: 394, 2: 394, 3: 394})\n"
     ]
    }
   ],
   "source": [
    "#Informação sobre SMOTE\n",
    "X_smote, y_smote = SMOTE().fit_sample(X_all, y_all)\n",
    "print(\"SMOTE data distribution: {}\".format(Counter(y_smote)))"
   ]
  },
  {
   "cell_type": "code",
   "execution_count": 18,
   "metadata": {},
   "outputs": [
    {
     "name": "stdout",
     "output_type": "stream",
     "text": [
      "                   pre       rec       spe        f1       geo       iba       sup\n",
      "\n",
      "          0       0.87      0.91      0.33      0.89      0.61      0.38       119\n",
      "          1       0.40      0.25      0.95      0.31      0.60      0.35        16\n",
      "          2       0.00      0.00      0.98      0.00      0.00      0.00         5\n",
      "          3       0.50      1.00      0.98      0.67      0.71      0.48         3\n",
      "\n",
      "avg / total       0.78      0.80      0.44      0.79      0.59      0.37       143\n",
      "\n"
     ]
    }
   ],
   "source": [
    "#Relatório\n",
    "print(classification_report_imbalanced(y_test, smote_prediction))"
   ]
  },
  {
   "cell_type": "code",
   "execution_count": 19,
   "metadata": {},
   "outputs": [
    {
     "name": "stdout",
     "output_type": "stream",
     "text": [
      "NearMiss Pipeline Score 0.251748251748\n"
     ]
    }
   ],
   "source": [
    "#Pipeline\n",
    "print('NearMiss Pipeline Score {}'.format(nearmiss_pipeline.score(X_test, y_test)))"
   ]
  },
  {
   "cell_type": "markdown",
   "metadata": {},
   "source": [
    "# ADASYN imblearn"
   ]
  },
  {
   "cell_type": "code",
   "execution_count": 20,
   "metadata": {},
   "outputs": [
    {
     "data": {
      "image/png": "[encoded data removed]",
      "text/plain": [
       "<matplotlib.figure.Figure at 0x7fa0d061c9d0>"
      ]
     },
     "metadata": {},
     "output_type": "display_data"
    },
    {
     "name": "stdout",
     "output_type": "stream",
     "text": [
      "ADASYN\n",
      "accuracy: 0.545454545455\n",
      "precision: [ 0.92  0.32  0.1   0.12]\n",
      "recall: [ 0.55  0.5   0.6   0.67]\n",
      "f1: [ 0.68  0.39  0.17  0.2 ]\n"
     ]
    }
   ],
   "source": [
    "clf = LinearSVC()\n",
    "adasyn_pipeline = make_pipeline_imb(ADASYN(random_state=4),clf)\n",
    "adasyn_model = adasyn_pipeline.fit(X_train, y_train)\n",
    "adasyn_prediction = adasyn_model.predict(X_test)\n",
    "\n",
    "# Computar matriz de confusão\n",
    "cnf_matrix = confusion_matrix(y_test,adasyn_prediction)\n",
    "np.set_printoptions(precision=2)\n",
    "\n",
    "# Plotar Matriz de confusão\n",
    "class_names = [0,1,2,3]\n",
    "plt.figure()\n",
    "plot_confusion_matrix(cnf_matrix, classes=class_names, title='Matriz de Confusao')\n",
    "\n",
    "plt.show()\n",
    "\n",
    "#Recall, precision, F1, accuracy\n",
    "print_results(\"ADASYN\", y_test,adasyn_prediction)"
   ]
  },
  {
   "cell_type": "code",
   "execution_count": null,
   "metadata": {
    "collapsed": true
   },
   "outputs": [],
   "source": []
  },
  {
   "cell_type": "markdown",
   "metadata": {
    "collapsed": true
   },
   "source": [
    "# RandomUndersampler"
   ]
  },
  {
   "cell_type": "code",
   "execution_count": 21,
   "metadata": {},
   "outputs": [
    {
     "name": "stdout",
     "output_type": "stream",
     "text": [
      "X_train.shape[0] = 332 e X_test.shape[0] = 143\n",
      "y_train distribuicao de classes original (valores absolutos) = Thrombosis\n",
      "0    275\n",
      "1     38\n",
      "2     12\n",
      "3      7\n",
      "Name: Thrombosis, dtype: int64\n",
      "y_train distribuicao de classes original (ratio) = Thrombosis\n",
      "0    0.828313\n",
      "1    0.114458\n",
      "2    0.036145\n",
      "3    0.021084\n",
      "Name: Thrombosis, dtype: float64\n",
      "{0: 12, 1: 12, 2: 12, 3: 7}\n"
     ]
    }
   ],
   "source": [
    "from imblearn.under_sampling import RandomUnderSampler\n",
    "\n",
    "print \"X_train.shape[0] = {0} e X_test.shape[0] = {1}\".format(X_train.shape[0], X_test.shape[0])\n",
    "\n",
    "# Apenas para contar quantos elementos temos por classe no y_train original\n",
    "y_train_dist_original = y_train.groupby(y_train).size()\n",
    "\n",
    "# Mostra a quantidade de instancias por classe e em seguida o ratio\n",
    "print \"y_train distribuicao de classes original (valores absolutos) = {0}\".format(y_train_dist_original)\n",
    "print \"y_train distribuicao de classes original (ratio) = {0}\".format(y_train_dist_original/y_train.shape[0])\n",
    "\n",
    "# Aqui começa a parte importante: criado o objeto rus do tipo RandomUnderSampler. \n",
    "#Note como o ratio e especificado para ele por meio do parametro ratio usando um dicionario. \n",
    "#Por que? A forma como foi feito é a certa sempre? \n",
    "#Nao existe uma resposta unica, o numero de instancias para corretamente representar uma classe \n",
    "#varia de problema para problema, logo aqui surge um local para refinar o modelo, isto e, \n",
    "#tentar varias combinacoes de random under sampling para cada classe (ou seja, é um hiperparametro a ser refinado).\n",
    "\n",
    "# Dica: Fique variando os valores para 0, 1, 2 e 3 e perceba as variacoes na decision tree treinada \n",
    "#com o x_train_resampled\n",
    "rus = RandomUnderSampler(return_indices=True, ratio={ 0: y_train_dist_original[0]/22, \n",
    "                                                    1: y_train_dist_original[1]/3, \n",
    "                                                    2: y_train_dist_original[2], \n",
    "                                                    3: y_train_dist_original[3]})\n",
    "X_train_resampled, y_train_resampled, idx_train_resampled = rus.fit_sample(X_train, y_train)\n",
    "# Apenas para mostrar a distribuicao do treinamento apos o resample\n",
    "unique, counts = np.unique(y_train_resampled, return_counts=True)\n",
    "print dict(zip(unique, counts))"
   ]
  },
  {
   "cell_type": "code",
   "execution_count": 22,
   "metadata": {},
   "outputs": [
    {
     "data": {
      "image/png": "[encoded data removed]",
      "text/plain": [
       "<matplotlib.figure.Figure at 0x7fa0cca7b7d0>"
      ]
     },
     "metadata": {},
     "output_type": "display_data"
    },
    {
     "name": "stdout",
     "output_type": "stream",
     "text": [
      "Decision Tree + Random Undersampling\n",
      "accuracy: 0.447552447552\n",
      "precision: [ 0.94  0.2   0.11  0.16]\n",
      "recall: [ 0.41  0.56  0.6   1.  ]\n",
      "f1: [ 0.57  0.3   0.18  0.27]\n"
     ]
    }
   ],
   "source": [
    "# Exemplo de treinamento e teste usando os dados submetidos a resampling\n",
    "decisionTree = DecisionTreeClassifier(random_state=1)\n",
    "dtf = decisionTree.fit(X_train_resampled, y_train_resampled)\n",
    "pred_dtf = dtf.predict(X_test.values)\n",
    "dtf_matrix = confusion_matrix(y_test, pred_dtf)\n",
    "# Plotar Matriz de confusão\n",
    "plt.figure()\n",
    "plot_confusion_matrix(dtf_matrix, classes=[0,1,2,3], title='Matriz de Confusao')\n",
    "plt.show()\n",
    "print_results(\"Decision Tree + Random Undersampling\", y_test, pred_dtf)"
   ]
  },
  {
   "cell_type": "code",
   "execution_count": 23,
   "metadata": {},
   "outputs": [
    {
     "data": {
      "image/png": "[encoded data removed]",
      "text/plain": [
       "<matplotlib.figure.Figure at 0x7fa0cca02090>"
      ]
     },
     "metadata": {},
     "output_type": "display_data"
    },
    {
     "name": "stdout",
     "output_type": "stream",
     "text": [
      "Decision Tree\n",
      "accuracy: 0.804195804196\n",
      "precision: [ 0.9   0.47  0.25  0.6 ]\n",
      "recall: [ 0.87  0.44  0.4   1.  ]\n",
      "f1: [ 0.88  0.45  0.31  0.75]\n"
     ]
    }
   ],
   "source": [
    "# Exemplo de treinamento e teste usando os dados originais\n",
    "decisionTree = DecisionTreeClassifier(random_state=1)\n",
    "dt = decisionTree.fit(X_train, y_train)\n",
    "pred_dt = dt.predict(X_test.values)\n",
    "dt_matrix = confusion_matrix(y_test, pred_dt)\n",
    "# Plotar Matriz de confusão\n",
    "plt.figure()\n",
    "plot_confusion_matrix(dt_matrix, classes=[0,1,2,3], title='Matriz de Confusao')\n",
    "plt.show()\n",
    "print_results(\"Decision Tree\", y_test, pred_dt)"
   ]
  },
  {
   "cell_type": "code",
   "execution_count": null,
   "metadata": {
    "collapsed": true
   },
   "outputs": [],
   "source": []
  }
 ],
 "metadata": {
  "kernelspec": {
   "display_name": "Python 2",
   "language": "python",
   "name": "python2"
  },
  "language_info": {
   "codemirror_mode": {
    "name": "ipython",
    "version": 2
   },
   "file_extension": ".py",
   "mimetype": "text/x-python",
   "name": "python",
   "nbconvert_exporter": "python",
   "pygments_lexer": "ipython2",
   "version": "2.7.13"
  }
 },
 "nbformat": 4,
 "nbformat_minor": 2
}
